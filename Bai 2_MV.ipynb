{
 "cells": [
  {
   "cell_type": "code",
   "execution_count": 1,
   "id": "94e15712",
   "metadata": {},
   "outputs": [
    {
     "name": "stdout",
     "output_type": "stream",
     "text": [
      "Nhập mã vạch:     3421345324235    \n",
      "Mã vạch \"3421345324235\" sai\n"
     ]
    }
   ],
   "source": [
    "mv = input('Nhập mã vạch: ').strip()\n",
    "chuoi = mv.split()\n",
    "\n",
    "if mv.isdigit() and len(mv) == 13:\n",
    "    for i in chuoi:\n",
    "        vt = 0\n",
    "        A = 0\n",
    "        B = 0\n",
    "        while vt < len(i)-2:\n",
    "            A += int(i[0+vt])\n",
    "            B += int(i[1+vt])\n",
    "            vt += 2\n",
    "    D = A + 3*B\n",
    "    C  = int(i[12])\n",
    "    if D/10 != 0:\n",
    "        F = 10 - D%10\n",
    "    else:\n",
    "        F = 0\n",
    "    if F == C:\n",
    "        print('Mã vạch \"{i}\" đúng'.format(i=i))\n",
    "    else:\n",
    "        print('Mã vạch \"{i}\" sai'.format(i=i))\n",
    "else:\n",
    "    print('lỗi')\n",
    "\n",
    "\n",
    "\n"
   ]
  }
 ],
 "metadata": {
  "kernelspec": {
   "display_name": "Python 3 (ipykernel)",
   "language": "python",
   "name": "python3"
  },
  "language_info": {
   "codemirror_mode": {
    "name": "ipython",
    "version": 3
   },
   "file_extension": ".py",
   "mimetype": "text/x-python",
   "name": "python",
   "nbconvert_exporter": "python",
   "pygments_lexer": "ipython3",
   "version": "3.9.7"
  }
 },
 "nbformat": 4,
 "nbformat_minor": 5
}
