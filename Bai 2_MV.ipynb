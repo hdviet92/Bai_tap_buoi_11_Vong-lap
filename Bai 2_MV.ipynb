{
 "cells": [
  {
   "cell_type": "code",
   "execution_count": 1,
   "id": "94e15712",
   "metadata": {},
   "outputs": [
    {
     "name": "stdout",
     "output_type": "stream",
     "text": [
      "Nhập mã vạch: 4902778120972\n",
      "11\n",
      "Mã vạch 4902778120972 đúng \n"
     ]
    }
   ],
   "source": [
    "# Nhập mã vạch\n",
    "mv = input('Nhập mã vạch: ').strip()\n",
    "chuoi = mv.split()\n",
    "\n",
    "# kiểm tra điều kiện dữ liệu\n",
    "if mv.isdigit() and len(mv) == 13:\n",
    "    \n",
    "    # tính tổng theo vị trí chắn lẻ trong chuỗi\n",
    "    for i in chuoi:\n",
    "        A = 0\n",
    "        B = 0\n",
    "        for j  in range(0,len(i)-2,2):\n",
    "            A += int(i[0+j])\n",
    "            B += int(i[1+j])\n",
    "            \n",
    "    # Kiểm tra mã vạch\n",
    "    D = A + 3*B\n",
    "    C  = int(i[12])\n",
    "    if D/10 != 0:\n",
    "        F = 10 - D%10\n",
    "    else:\n",
    "        F = 0\n",
    "    if F == C:\n",
    "        print('Mã vạch {i} đúng '.format(i=i))\n",
    "    else:\n",
    "        print('Mã vạch {i} sai '.format(i=i))\n",
    "        \n",
    "else:\n",
    "    print('lỗi')\n",
    "\n",
    "\n",
    "\n"
   ]
  }
 ],
 "metadata": {
  "kernelspec": {
   "display_name": "Python 3 (ipykernel)",
   "language": "python",
   "name": "python3"
  },
  "language_info": {
   "codemirror_mode": {
    "name": "ipython",
    "version": 3
   },
   "file_extension": ".py",
   "mimetype": "text/x-python",
   "name": "python",
   "nbconvert_exporter": "python",
   "pygments_lexer": "ipython3",
   "version": "3.9.7"
  }
 },
 "nbformat": 4,
 "nbformat_minor": 5
}
