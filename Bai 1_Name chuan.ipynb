{
 "cells": [
  {
   "cell_type": "code",
   "execution_count": 1,
   "id": "98b12efc",
   "metadata": {},
   "outputs": [
    {
     "name": "stdout",
     "output_type": "stream",
     "text": [
      "Nhập họ và tên: dwqeqwewqe qweqweqweqwe qweqweqweqw qưeqweqwe\n",
      "Họ và tên:  Dwqeqwewqe Qweqweqweqwe Qweqweqweqw Qưeqweqwe\n"
     ]
    }
   ],
   "source": [
    "fullname = input('Nhập họ và tên: ').split()\n",
    "fix = ''\n",
    "for i in fullname:\n",
    "    if i.isalpha():\n",
    "        fix += i[0].upper() + i[1:].lower() + ' '\n",
    "fix = fix.strip()\n",
    "print('Họ và tên: ',fix)\n"
   ]
  }
 ],
 "metadata": {
  "kernelspec": {
   "display_name": "Python 3 (ipykernel)",
   "language": "python",
   "name": "python3"
  },
  "language_info": {
   "codemirror_mode": {
    "name": "ipython",
    "version": 3
   },
   "file_extension": ".py",
   "mimetype": "text/x-python",
   "name": "python",
   "nbconvert_exporter": "python",
   "pygments_lexer": "ipython3",
   "version": "3.9.7"
  }
 },
 "nbformat": 4,
 "nbformat_minor": 5
}
